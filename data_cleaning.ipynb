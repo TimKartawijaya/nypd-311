{
 "cells": [
  {
   "cell_type": "code",
   "execution_count": 1,
   "metadata": {
    "collapsed": true
   },
   "outputs": [],
   "source": [
    "import pandas as pd\n",
    "import numpy as np\n",
    "import matplotlib.pyplot as plt\n",
    "% matplotlib inline"
   ]
  },
  {
   "cell_type": "code",
   "execution_count": 24,
   "metadata": {
    "collapsed": false
   },
   "outputs": [
    {
     "name": "stderr",
     "output_type": "stream",
     "text": [
      "/Users/donghanhe/anaconda3/lib/python3.5/site-packages/IPython/core/interactiveshell.py:2717: DtypeWarning: Columns (34,35,36,37) have mixed types. Specify dtype option on import or set low_memory=False.\n",
      "  interactivity=interactivity, compiler=compiler, result=result)\n"
     ]
    }
   ],
   "source": [
    "df = pd.read_csv('311_NYPD_6months.csv')"
   ]
  },
  {
   "cell_type": "code",
   "execution_count": 25,
   "metadata": {
    "collapsed": false
   },
   "outputs": [],
   "source": [
    "keep_cols = ['Created Date', 'Closed Date', 'Complaint Type', 'Descriptor', 'Location Type',\n",
    "             'Incident Zip', 'Due Date', 'Resolution Description', 'Resolution Action Updated Date',\n",
    "             'Latitude', 'Longitude','Borough','City']"
   ]
  },
  {
   "cell_type": "code",
   "execution_count": 26,
   "metadata": {
    "collapsed": false
   },
   "outputs": [],
   "source": [
    "df = df[keep_cols]\n",
    "N,C = df.shape\n",
    "drop_indices = []\n",
    "for i in range(N):\n",
    "    if np.sum(pd.isnull(df.iloc[i,:])) != 0:\n",
    "        drop_indices.append(i)\n",
    "df = df.drop(df.index[drop_indices])"
   ]
  },
  {
   "cell_type": "markdown",
   "metadata": {},
   "source": [
    "Check if we have any missing value left"
   ]
  },
  {
   "cell_type": "code",
   "execution_count": 27,
   "metadata": {
    "collapsed": false
   },
   "outputs": [
    {
     "data": {
      "text/plain": [
       "Created Date                      0\n",
       "Closed Date                       0\n",
       "Complaint Type                    0\n",
       "Descriptor                        0\n",
       "Location Type                     0\n",
       "Incident Zip                      0\n",
       "Due Date                          0\n",
       "Resolution Description            0\n",
       "Resolution Action Updated Date    0\n",
       "Latitude                          0\n",
       "Longitude                         0\n",
       "Borough                           0\n",
       "City                              0\n",
       "dtype: int64"
      ]
     },
     "execution_count": 27,
     "metadata": {},
     "output_type": "execute_result"
    }
   ],
   "source": [
    "np.sum(df.isnull())"
   ]
  },
  {
   "cell_type": "markdown",
   "metadata": {},
   "source": [
    "Subgroup the following"
   ]
  },
  {
   "cell_type": "code",
   "execution_count": 28,
   "metadata": {
    "collapsed": true
   },
   "outputs": [],
   "source": [
    "comp_type = {'Noise':['Noise - Commercial','Noise - House of Worship','Noise - Park','Noise - Residential','Noise - Street/Sidewalk','Noise - Vehicle'], \n",
    "             'Street condition related':['Derelict Vehicle','Graffiti','Homeless Encampment','Panhandling','Vending', 'Posting Advertisement','Sidewalk Condition','Street Condition',],\n",
    "             'Disturbance':['Bike/Roller/Skate Chronic','Disorderly Youth','Drinking','Drug Activity','Illegal Fireworks','Urinating in Public'],\n",
    "             'Traffic related': ['Traffic','Illegal Parking','Blocked Driveway'],\n",
    "             'Miscellaneous': ['Non-Emergency Police Matter','Animal Abuse']}\n",
    "    "
   ]
  },
  {
   "cell_type": "code",
   "execution_count": 29,
   "metadata": {
    "collapsed": false
   },
   "outputs": [],
   "source": [
    "def set_comp_type(col):\n",
    "    array = np.zeros(len(col),dtype='object')\n",
    "    for i,entry in enumerate(col):\n",
    "        for key,comp_list in comp_type.items():\n",
    "            if entry in comp_list:\n",
    "                array[i] = key\n",
    "    \n",
    "    return(array)"
   ]
  },
  {
   "cell_type": "code",
   "execution_count": 30,
   "metadata": {
    "collapsed": false
   },
   "outputs": [],
   "source": [
    "df['Complaint Subgroups'] = set_comp_type(df['Complaint Type'])"
   ]
  },
  {
   "cell_type": "markdown",
   "metadata": {},
   "source": [
    "now we enrich the data, and find the distance to the closest police station."
   ]
  },
  {
   "cell_type": "code",
   "execution_count": 31,
   "metadata": {
    "collapsed": false
   },
   "outputs": [],
   "source": [
    "df_nypp = pd.read_csv('nypp.csv')"
   ]
  },
  {
   "cell_type": "code",
   "execution_count": 32,
   "metadata": {
    "collapsed": true
   },
   "outputs": [],
   "source": [
    "def get_centroid(col):\n",
    "    centroid_list = []\n",
    "    for i,val in enumerate(col):\n",
    "        v_str = val[val.find('('):].strip('(').strip(')').split(',')\n",
    "        v_coord = []\n",
    "        for j,string in enumerate(v_str):\n",
    "            if string[0] == ' ':\n",
    "                string = string[1:]\n",
    "            if string[-1] == ')':\n",
    "                string = string[:-2]\n",
    "            if string[0] == '(':\n",
    "                string = string[2:]\n",
    "            c0 = float(string[:string.find(' ')].strip(' '))\n",
    "            c1 = float(string[string.find(' ')+1:].strip(' '))\n",
    "            if abs(c0+70) >20 or abs(c1-40)>20:\n",
    "                print('lmao something went south')\n",
    "            v_coord.append((c0,c1)) \n",
    "            \n",
    "        centroid_list.append(list(np.mean(v_coord,axis = 0).astype('float')))\n",
    "    return(centroid_list)\n",
    "def naive_dist(data,prec):\n",
    "    R = 6371e3\n",
    "    sqdt = ((np.radians(data)[:,np.newaxis,:]-np.radians(prec)[np.newaxis,:,:])**2)\n",
    "    naive_geo = np.sqrt(np.sum(sqdt,axis=2))\n",
    "    return(naive_geo*R)\n",
    "def calculate_geodesic(data_lonlat,precinct_lonlat):\n",
    "    \"\"\"\n",
    "    lonlat_0 should be the data one, \n",
    "    lonlat_1 should be the precinct one\n",
    "    \n",
    "      \n",
    "    \"\"\"\n",
    "    R = 6371e3\n",
    "    data_rad = np.radians(data_lonlat)[:,np.newaxis,:]\n",
    "    prec_rad = np.radians(precinct_lonlat)[np.newaxis,:,:]\n",
    "    diff = data_rad-prec_rad\n",
    "    a = np.sin(diff[:,:,0]/2)**2+np.cos(data_rad[:,:,0])*np.cos(prec_rad[:,:,0])*np.sin(diff[:,:,1]/2)**2\n",
    "    c = 2*np.arctan2(np.sqrt(a), np.sqrt(1-a))\n",
    "    \n",
    "    return c*R"
   ]
  },
  {
   "cell_type": "code",
   "execution_count": 33,
   "metadata": {
    "collapsed": false
   },
   "outputs": [],
   "source": [
    "#%debug\n",
    "result = get_centroid(df_nypp['the_geom'])\n",
    "result_arr = np.array(result,dtype='float')"
   ]
  },
  {
   "cell_type": "code",
   "execution_count": 34,
   "metadata": {
    "collapsed": false
   },
   "outputs": [],
   "source": [
    "data_arr = df[['Longitude','Latitude']].values"
   ]
  },
  {
   "cell_type": "code",
   "execution_count": 35,
   "metadata": {
    "collapsed": false
   },
   "outputs": [],
   "source": [
    "#%debug\n",
    "dist_to_closest_station = np.min(calculate_geodesic(data_arr,result_arr),axis = 1)"
   ]
  },
  {
   "cell_type": "code",
   "execution_count": 36,
   "metadata": {
    "collapsed": false
   },
   "outputs": [],
   "source": [
    "df['Distance To Closest Station'] = dist_to_closest_station"
   ]
  },
  {
   "cell_type": "code",
   "execution_count": 37,
   "metadata": {
    "collapsed": true
   },
   "outputs": [],
   "source": [
    "df.to_csv('cleaned_data.csv')"
   ]
  },
  {
   "cell_type": "code",
   "execution_count": null,
   "metadata": {
    "collapsed": true
   },
   "outputs": [],
   "source": []
  }
 ],
 "metadata": {
  "anaconda-cloud": {},
  "kernelspec": {
   "display_name": "Python [conda env:anaconda3]",
   "language": "python",
   "name": "conda-env-anaconda3-py"
  },
  "language_info": {
   "codemirror_mode": {
    "name": "ipython",
    "version": 3
   },
   "file_extension": ".py",
   "mimetype": "text/x-python",
   "name": "python",
   "nbconvert_exporter": "python",
   "pygments_lexer": "ipython3",
   "version": "3.5.2"
  }
 },
 "nbformat": 4,
 "nbformat_minor": 1
}
