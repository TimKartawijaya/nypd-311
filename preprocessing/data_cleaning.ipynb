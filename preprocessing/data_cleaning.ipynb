{
 "cells": [
  {
   "cell_type": "code",
   "execution_count": 1,
   "metadata": {},
   "outputs": [],
   "source": [
    "import pandas as pd\n",
    "import numpy as np\n",
    "import matplotlib.pyplot as plt\n",
    "% matplotlib inline"
   ]
  },
  {
   "cell_type": "markdown",
   "metadata": {},
   "source": [
    "This notebook is used to preprocess the data for the 311 Data Analysis Project."
   ]
  },
  {
   "cell_type": "code",
   "execution_count": 2,
   "metadata": {},
   "outputs": [
    {
     "name": "stderr",
     "output_type": "stream",
     "text": [
      "/Users/TimGimi/anaconda2/lib/python2.7/site-packages/IPython/core/interactiveshell.py:2714: DtypeWarning: Columns (34,35,36,37) have mixed types. Specify dtype option on import or set low_memory=False.\n",
      "  interactivity=interactivity, compiler=compiler, result=result)\n"
     ]
    }
   ],
   "source": [
    "df = pd.read_csv('311_NYPD_6month.csv')\n",
    "\n",
    "#keep relevant cols\n",
    "keep_cols = ['Created Date', 'Closed Date', 'Complaint Type', 'Descriptor', 'Location Type',\n",
    "             'Incident Zip', 'Due Date', 'Resolution Description', 'Resolution Action Updated Date',\n",
    "             'Latitude', 'Longitude','Borough','City']\n",
    "\n",
    "df = df[keep_cols]\n",
    "\n",
    "#export for visna visualization\n",
    "df.to_csv('relevant_unprocessed_311_data.csv')\n",
    "\n",
    "#remove all rows with missing values.\n",
    "df = df.dropna()"
   ]
  },
  {
   "cell_type": "markdown",
   "metadata": {},
   "source": [
    "Check if we have any missing value left:"
   ]
  },
  {
   "cell_type": "code",
   "execution_count": 3,
   "metadata": {},
   "outputs": [
    {
     "data": {
      "text/plain": [
       "Created Date                      0\n",
       "Closed Date                       0\n",
       "Complaint Type                    0\n",
       "Descriptor                        0\n",
       "Location Type                     0\n",
       "Incident Zip                      0\n",
       "Due Date                          0\n",
       "Resolution Description            0\n",
       "Resolution Action Updated Date    0\n",
       "Latitude                          0\n",
       "Longitude                         0\n",
       "Borough                           0\n",
       "City                              0\n",
       "dtype: int64"
      ]
     },
     "execution_count": 3,
     "metadata": {},
     "output_type": "execute_result"
    }
   ],
   "source": [
    "np.sum(df.isnull())"
   ]
  },
  {
   "cell_type": "code",
   "execution_count": 4,
   "metadata": {},
   "outputs": [
    {
     "data": {
      "text/plain": [
       "{'The Police Department issued a summons in response to the complaint.',\n",
       " 'The Police Department made an arrest in response to the complaint.',\n",
       " 'The Police Department responded and upon arrival those responsible for the condition were gone.',\n",
       " 'The Police Department responded to the complaint and a report was prepared.',\n",
       " 'The Police Department responded to the complaint and determined that police action was not necessary.',\n",
       " 'The Police Department responded to the complaint and took action to fix the condition.',\n",
       " 'The Police Department responded to the complaint and with the information available observed no evidence of the violation at that time.',\n",
       " 'The Police Department responded to the complaint but officers were unable to gain entry into the premises.',\n",
       " 'The Police Department reviewed your complaint and provided additional information below.',\n",
       " \"This complaint does not fall under the Police Department's jurisdiction.\",\n",
       " 'Your request can not be processed at this time because of insufficient contact information. Please create a new Service Request on NYC.gov and provide more detailed contact information.'}"
      ]
     },
     "execution_count": 4,
     "metadata": {},
     "output_type": "execute_result"
    }
   ],
   "source": [
    "set(df['Resolution Description'])"
   ]
  },
  {
   "cell_type": "markdown",
   "metadata": {},
   "source": [
    "Check if police acted upon it, unable to act, or if the problem is a false alarm. Subgroup the aforementioned group."
   ]
  },
  {
   "cell_type": "code",
   "execution_count": 5,
   "metadata": {},
   "outputs": [],
   "source": [
    "comp_type = {'Noise':['Noise - Commercial','Noise - House of Worship','Noise - Park','Noise - Residential','Noise - Street/Sidewalk','Noise - Vehicle'], \n",
    "             'Street condition related':['Derelict Vehicle','Graffiti','Homeless Encampment','Panhandling','Vending', 'Posting Advertisement','Sidewalk Condition','Street Condition',],\n",
    "             'Disturbance':['Bike/Roller/Skate Chronic','Disorderly Youth','Drinking','Drug Activity','Illegal Fireworks','Urinating in Public'],\n",
    "             'Traffic related': ['Traffic','Illegal Parking','Blocked Driveway'],\n",
    "             'Miscellaneous': ['Non-Emergency Police Matter','Animal Abuse']}\n",
    "reso_type = {'Police Department Acted':['The Police Department issued a summons in response to the complaint.',\n",
    "                                       'The Police Department made an arrest in response to the complaint.',\n",
    "                                       'The Police Department responded to the complaint and took action to fix the condition.',\n",
    "                                        'The Police Department responded to the complaint and a report was prepared.',\n",
    "                                       'The Police Department reviewed your complaint and provided additional information below.'],\n",
    "            'Police Department Unable to Act': ['The Police Department responded and upon arrival those responsible for the condition were gone.',\n",
    "                                       'The Police Department responded to the complaint but officers were unable to gain entry into the premises.',\n",
    "                                       \"This complaint does not fall under the Police Department's jurisdiction.\",\n",
    "                                        'Your request can not be processed at this time because of insufficient contact information. Please create a new Service Request on NYC.gov and provide more detailed contact information.'],\n",
    "            'False Alarm': ['The Police Department responded to the complaint and determined that police action was not necessary.',\n",
    "                           'The Police Department responded to the complaint and with the information available observed no evidence of the violation at that time.']}\n",
    "\n",
    "def subgroup_type(col, subgroups):\n",
    "    \"\"\"\n",
    "    Helper method to help subgroup the data into mentioned subgroups. \n",
    "    \n",
    "    Args: \n",
    "    - col: column to subgroup \n",
    "    - subgroups: dictionary of subgroups\n",
    "    \n",
    "    Returns: \n",
    "    - array of supgrouped items\n",
    "    \"\"\"\n",
    "    array = np.zeros(len(col),dtype='object')\n",
    "    for i,entry in enumerate(col):\n",
    "        for key,comp_list in subgroups.items():\n",
    "            if entry in comp_list:\n",
    "                array[i] = key\n",
    "    \n",
    "    return(array)\n",
    "\n",
    "df['Complaint Subgroups'] = subgroup_type(df['Complaint Type'],comp_type)\n",
    "df['Resolution Subgroups'] = subgroup_type(df['Resolution Description'],reso_type)"
   ]
  },
  {
   "cell_type": "markdown",
   "metadata": {},
   "source": [
    "### Data Enrichment: Add Police Station Distance\n",
    "Now we enrich the data, and find the distance to the closest police station."
   ]
  },
  {
   "cell_type": "code",
   "execution_count": 7,
   "metadata": {},
   "outputs": [],
   "source": [
    "df_nypp = pd.read_csv('nypd_precincts.csv')"
   ]
  },
  {
   "cell_type": "code",
   "execution_count": 8,
   "metadata": {},
   "outputs": [],
   "source": [
    "def get_centroid(col):\n",
    "    \"\"\"\n",
    "    The centroid estimation for multi-polygon\n",
    "    \"\"\"\n",
    "    centroid_list = []\n",
    "    for i,val in enumerate(col):\n",
    "        v_str = val[val.find('('):].strip('(').strip(')').split(',')\n",
    "        v_coord = []\n",
    "        for j,string in enumerate(v_str):\n",
    "            if string[0] == ' ':\n",
    "                string = string[1:]\n",
    "            if string[-1] == ')':\n",
    "                string = string[:-2]\n",
    "            if string[0] == '(':\n",
    "                string = string[2:]\n",
    "            c0 = float(string[:string.find(' ')].strip(' '))\n",
    "            c1 = float(string[string.find(' ')+1:].strip(' '))\n",
    "            if abs(c0+70) >20 or abs(c1-40)>20:\n",
    "                print('lmao something went south')\n",
    "            v_coord.append((c0,c1)) \n",
    "            \n",
    "        centroid_list.append(list(np.mean(v_coord,axis = 0).astype('float')))\n",
    "    return(centroid_list)\n",
    "def naive_dist(data,prec):\n",
    "    \"\"\"\n",
    "    Naive Euclidean distance\n",
    "    \"\"\"\n",
    "    R = 6371e3\n",
    "    sqdt = ((np.radians(data)[:,np.newaxis,:]-np.radians(prec)[np.newaxis,:,:])**2)\n",
    "    naive_geo = np.sqrt(np.sum(sqdt,axis=2))\n",
    "    return(naive_geo*R)\n",
    "def calculate_geodesic(data_lonlat,precinct_lonlat):\n",
    "    \"\"\"\n",
    "    lonlat_0 should be the data one, \n",
    "    lonlat_1 should be the precinct one\n",
    "    \n",
    "    formulas given in the report\n",
    "      \n",
    "    \"\"\"\n",
    "    R = 6371e3\n",
    "    data_rad = np.radians(data_lonlat)[:,np.newaxis,:]\n",
    "    prec_rad = np.radians(precinct_lonlat)[np.newaxis,:,:]\n",
    "    diff = data_rad-prec_rad\n",
    "    a = np.sin(diff[:,:,0]/2)**2+np.cos(data_rad[:,:,0])*np.cos(prec_rad[:,:,0])*np.sin(diff[:,:,1]/2)**2\n",
    "    c = 2*np.arctan2(np.sqrt(a), np.sqrt(1-a))\n",
    "    \n",
    "    return c*R"
   ]
  },
  {
   "cell_type": "markdown",
   "metadata": {},
   "source": [
    "Test how will naive distance worked against true distance"
   ]
  },
  {
   "cell_type": "code",
   "execution_count": 9,
   "metadata": {},
   "outputs": [
    {
     "data": {
      "text/plain": [
       "array([[136578.40369675]])"
      ]
     },
     "execution_count": 9,
     "metadata": {},
     "output_type": "execute_result"
    }
   ],
   "source": [
    "calculate_geodesic(np.array([44,-77],dtype='float').reshape((1,-1)),np.array([45,-78],dtype='float').reshape((1,-1)))"
   ]
  },
  {
   "cell_type": "code",
   "execution_count": 10,
   "metadata": {},
   "outputs": [
    {
     "data": {
      "text/plain": [
       "array([[157253.37332782]])"
      ]
     },
     "execution_count": 10,
     "metadata": {},
     "output_type": "execute_result"
    }
   ],
   "source": [
    "naive_dist(np.array([44,-77],dtype='float').reshape((1,-1)),np.array([45,-78],dtype='float').reshape((1,-1)))"
   ]
  },
  {
   "cell_type": "markdown",
   "metadata": {},
   "source": [
    "relative error"
   ]
  },
  {
   "cell_type": "code",
   "execution_count": 11,
   "metadata": {},
   "outputs": [
    {
     "data": {
      "text/plain": [
       "0.15137802955272048"
      ]
     },
     "execution_count": 11,
     "metadata": {},
     "output_type": "execute_result"
    }
   ],
   "source": [
    "(157253.37332782-136578.40369675)/136578.40369675"
   ]
  },
  {
   "cell_type": "markdown",
   "metadata": {},
   "source": [
    "Now we use our functions to compute the things we want"
   ]
  },
  {
   "cell_type": "code",
   "execution_count": 12,
   "metadata": {},
   "outputs": [],
   "source": [
    "#%debug\n",
    "result = get_centroid(df_nypp['the_geom'])\n",
    "result_arr = np.array(result,dtype='float')"
   ]
  },
  {
   "cell_type": "code",
   "execution_count": 13,
   "metadata": {},
   "outputs": [],
   "source": [
    "data_arr = df[['Longitude','Latitude']].values"
   ]
  },
  {
   "cell_type": "code",
   "execution_count": 14,
   "metadata": {},
   "outputs": [],
   "source": [
    "#%debug\n",
    "dist_to_closest_station = np.min(calculate_geodesic(data_arr,result_arr),axis = 1)"
   ]
  },
  {
   "cell_type": "code",
   "execution_count": 15,
   "metadata": {},
   "outputs": [],
   "source": [
    "df['Distance To Closest Station'] = dist_to_closest_station"
   ]
  },
  {
   "cell_type": "code",
   "execution_count": 16,
   "metadata": {},
   "outputs": [],
   "source": [
    "df.to_csv('cleaned_311_data.csv')"
   ]
  }
 ],
 "metadata": {
  "anaconda-cloud": {},
  "kernelspec": {
   "display_name": "Python 3",
   "language": "python",
   "name": "python3"
  },
  "language_info": {
   "codemirror_mode": {
    "name": "ipython",
    "version": 2
   },
   "file_extension": ".py",
   "mimetype": "text/x-python",
   "name": "python",
   "nbconvert_exporter": "python",
   "pygments_lexer": "ipython2",
   "version": "2.7.15"
  }
 },
 "nbformat": 4,
 "nbformat_minor": 1
}
